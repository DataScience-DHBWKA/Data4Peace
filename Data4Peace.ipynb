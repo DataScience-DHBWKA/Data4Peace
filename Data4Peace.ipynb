{
 "cells": [
  {
   "cell_type": "code",
   "execution_count": null,
   "metadata": {},
   "outputs": [],
   "source": [
    "import glob\n",
    "import pandas as pd\n",
    "\n",
    "record_files = glob.glob('Records/*.csv')\n",
    "\n",
    "df_glob = pd.concat([pd.read_csv(file) for file in record_files], ignore_index=True)"
   ]
  }
 ],
 "metadata": {
  "language_info": {
   "name": "python"
  }
 },
 "nbformat": 4,
 "nbformat_minor": 2
}
